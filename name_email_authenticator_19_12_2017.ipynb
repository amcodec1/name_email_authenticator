{
 "cells": [
  {
   "cell_type": "code",
   "execution_count": 1,
   "metadata": {
    "collapsed": true
   },
   "outputs": [],
   "source": [
    "# Importing required libraries\n",
    "import pandas as pd\n",
    "import numpy as np\n",
    "import matplotlib.pyplot as plt\n",
    "%matplotlib inline"
   ]
  },
  {
   "cell_type": "code",
   "execution_count": 2,
   "metadata": {
    "collapsed": true
   },
   "outputs": [],
   "source": [
    "def remove_salutation(txt):\n",
    "    \"\"\"\n",
    "    Removes the salutation and special characters from a given inputted text\n",
    "    \n",
    "    Example -\n",
    "    \n",
    "    Input  - 'Mr. Bhavesh  Bhatt'\n",
    "    Output - 'bhavesh bhatt'\n",
    "    \n",
    "    \"\"\"\n",
    "    special_characters = [',','@','_','.']\n",
    "    for sp in special_characters:\n",
    "        txt = txt.replace(sp,\" \")\n",
    "    txt = txt.lower()\n",
    "    txt = ' '.join(txt.split()) #Replace multiple spaces with single space\n",
    "    salutation = ['dr ','miss ','mr ','mrs ','sir ']\n",
    "    for sals in salutation:\n",
    "        if sals in txt:\n",
    "            txt = txt.replace(sals,'')\n",
    "    txt = ''.join([i for i in txt if not i.isdigit()]) #Converting names to just character only\n",
    "    return txt"
   ]
  },
  {
   "cell_type": "code",
   "execution_count": 3,
   "metadata": {
    "collapsed": true
   },
   "outputs": [],
   "source": [
    "def extract_domain_name(email):\n",
    "    \"\"\"\n",
    "    Extract the domain name from an email and return a null if the domain name already present in\n",
    "    the reject_domain_check list\n",
    "    \n",
    "    Example -\n",
    "    \n",
    "    Input  - 'xyz@uber.com'\n",
    "    Output - 'uber'\n",
    "    \n",
    "    Input  - 'xyz@gmail.com'\n",
    "    Output - ''\n",
    "    \n",
    "    \"\"\"\n",
    "    reject_domain_check = ['gmail','yahoo','rediffmail','sujit','hotmail','outlook','ymail',\\\n",
    "                           'live','gamil','email','mail','gmai','gmil','icloud','rocketmail',\\\n",
    "                           'gimel','gmal','test','rediff','aol','gmaill','flexiloans']\n",
    "    \n",
    "    if email and '@' in email:\n",
    "            if len(email.split(\"@\"))>1:\n",
    "                domain = email.split(\"@\")[1].split(\".\")[0]\n",
    "                domain = domain.lower()\n",
    "                for rj_dom in reject_domain_check:\n",
    "                    if rj_dom in domain:\n",
    "                        domain = ''\n",
    "                return domain\n",
    "    else:\n",
    "        return email"
   ]
  },
  {
   "cell_type": "code",
   "execution_count": 4,
   "metadata": {
    "collapsed": true
   },
   "outputs": [],
   "source": [
    "def extract_text_from_email(email):\n",
    "    \"\"\"\n",
    "    Extract the username from an email and also discards special characters and numbers\n",
    "    \n",
    "    Example -\n",
    "    \n",
    "    Input  - 'xyz123_124a@gmail.com'\n",
    "    Output - 'xyza'\n",
    "    \n",
    "    \"\"\"\n",
    "    new_email = ''\n",
    "    if email:\n",
    "        email = email.split(\"@\")[0]\n",
    "        for characters in email:\n",
    "            if characters.isalpha():\n",
    "                new_email +=characters\n",
    "    return new_email.lower()"
   ]
  },
  {
   "cell_type": "code",
   "execution_count": 5,
   "metadata": {
    "collapsed": true
   },
   "outputs": [],
   "source": [
    "def username_validity(email):\n",
    "    \"\"\"\n",
    "    Return the username of the email as is if its length is greater than equal to 4 \n",
    "    \n",
    "    \"\"\"\n",
    "    out = ''\n",
    "    if len(email) >= 4:\n",
    "        out = email\n",
    "    return out"
   ]
  },
  {
   "cell_type": "code",
   "execution_count": 6,
   "metadata": {
    "collapsed": true
   },
   "outputs": [],
   "source": [
    "def modify_business_name(txt):\n",
    "    \"\"\"\n",
    "    Modify the business name by discarding special characters and numbers\n",
    "    \n",
    "    Example -\n",
    "    \n",
    "    Input  - 'JAI LAXMI MARKETING'\n",
    "    Output - 'jailaxmimarketing'\n",
    "   \n",
    "    \"\"\"\n",
    "    special_characters = ['.','@','_']\n",
    "    for sp in special_characters:\n",
    "        txt = txt.replace(sp,\" \")\n",
    "    txt = txt.lower()\n",
    "    txt = ''.join(txt.split())                          #Replace multiple spaces with single space\n",
    "    txt = ''.join([i for i in txt if not i.isdigit()])  #Converting names to just character only\n",
    "    return txt"
   ]
  },
  {
   "cell_type": "code",
   "execution_count": 7,
   "metadata": {
    "collapsed": true
   },
   "outputs": [],
   "source": [
    "def get_all_substrings(input_string):\n",
    "    \"\"\"\n",
    "    Generate all substrings from the name of the person having length greater than or equal to 3\n",
    "    \n",
    "    Input  - 'bhavesh'\n",
    "    Output - \n",
    "    ['bha','bhav','bhave','bhaves','bhavesh','hav','have', 'haves', 'havesh', \n",
    "     'ave', 'aves', 'avesh', 'ves', 'vesh', 'esh']\n",
    "     \n",
    "    \"\"\"\n",
    "    length = len(input_string)\n",
    "    return [input_string[i:j+1] for i in range(length) for j in range(i+2,length)]"
   ]
  },
  {
   "cell_type": "code",
   "execution_count": 8,
   "metadata": {
    "collapsed": true
   },
   "outputs": [],
   "source": [
    "def count_of_namesubstring_in_email(substring_names,email):\n",
    "    \"\"\"\n",
    "    Return the length of the longest matching substring sequence that matches the email text field\n",
    "    \n",
    "    Input  - \n",
    "    ['bha','bhav','bhave','bhaves','bhavesh','hav','have', 'haves', 'havesh', \n",
    "     'ave', 'aves', 'avesh', 'ves', 'vesh', 'esh']\n",
    "     and \n",
    "     'bhavesh'\n",
    "\n",
    "    Output - 7\n",
    "    \n",
    "    \"\"\"\n",
    "    match_count = 0\n",
    "    temp_list = []\n",
    "    for names in substring_names:\n",
    "        if names in email:\n",
    "            temp_list.append(names)\n",
    "            match_count = len(max(temp_list,key=len))\n",
    "    return match_count"
   ]
  },
  {
   "cell_type": "code",
   "execution_count": 9,
   "metadata": {
    "collapsed": true
   },
   "outputs": [],
   "source": [
    "def similarity_name_email (detail):\n",
    "    \"\"\"\n",
    "    Return the similarity score between name and email\n",
    "    \n",
    "    Input  - bhavesh bhatt, bhattbhavesh\n",
    "    Output - 100\n",
    "    \n",
    "    \"\"\"\n",
    "    full_name,email = detail\n",
    "    if len(email):\n",
    "        if full_name.count(' ') >= 2:\n",
    "            f_name = full_name.split(' ')[0]\n",
    "            m_name = full_name.split(' ')[1]\n",
    "            s_name = full_name.split(' ')[2]\n",
    "            fname_similarity = count_of_namesubstring_in_email(get_all_substrings(f_name),email)/float(len(email))\n",
    "            mname_similarity = count_of_namesubstring_in_email(get_all_substrings(m_name),email)/float(len(email))\n",
    "            sname_similarity = count_of_namesubstring_in_email(get_all_substrings(s_name),email)/float(len(email))\n",
    "            if int((fname_similarity + mname_similarity + sname_similarity)*100) > 100:\n",
    "                return 100\n",
    "            else:\n",
    "                return int((fname_similarity + mname_similarity + sname_similarity)*100)\n",
    "        if full_name.count(' ') == 1:\n",
    "            f_name = full_name.split(' ')[0]\n",
    "            s_name = full_name.split(' ')[1]\n",
    "            fname_similarity = count_of_namesubstring_in_email(get_all_substrings(f_name),email)/float(len(email))\n",
    "            sname_similarity = count_of_namesubstring_in_email(get_all_substrings(s_name),email)/float(len(email))\n",
    "            if int((fname_similarity + sname_similarity)*100) > 100:\n",
    "                return 100\n",
    "            else:\n",
    "                return int((fname_similarity + sname_similarity)*100)\n",
    "        else:\n",
    "            name_similarity = count_of_namesubstring_in_email(get_all_substrings(full_name),email)/float(len(email))\n",
    "            return int(name_similarity*100)\n",
    "    else:\n",
    "        return 0"
   ]
  },
  {
   "cell_type": "code",
   "execution_count": 10,
   "metadata": {
    "collapsed": true
   },
   "outputs": [],
   "source": [
    "def similarity_businessname_email(detail):\n",
    "    \"\"\"\n",
    "    Returns the similarity score between business name and email\n",
    "    \n",
    "    \"\"\"\n",
    "    business_name,email = detail\n",
    "    if len(email):\n",
    "        bname_similarity = count_of_namesubstring_in_email(get_all_substrings(business_name),email)/float(len(email))\n",
    "        return int((bname_similarity*100))\n",
    "    else:\n",
    "        return 0"
   ]
  },
  {
   "cell_type": "code",
   "execution_count": 11,
   "metadata": {
    "collapsed": true
   },
   "outputs": [],
   "source": [
    "def similarity_businessname_domain(detail):\n",
    "    \"\"\"\n",
    "    Returns the similarity score between domain and business name\n",
    "    \n",
    "    \"\"\"\n",
    "    business_name,domain = detail\n",
    "    if len(domain):\n",
    "        bname_similarity = count_of_namesubstring_in_email(get_all_substrings(business_name),domain)/float(len(domain))\n",
    "        return int((bname_similarity*100))\n",
    "    else:\n",
    "        return 0"
   ]
  },
  {
   "cell_type": "code",
   "execution_count": 12,
   "metadata": {
    "collapsed": true
   },
   "outputs": [],
   "source": [
    "def max_similar_score(scores):\n",
    "    \"\"\"\n",
    "    Return the maximum score out of the 3 scores\n",
    "    \n",
    "    Input  - (10,20,30)\n",
    "    \n",
    "    Output - 30\n",
    "    \n",
    "    \"\"\"    \n",
    "    score1, score2,score3 = scores\n",
    "    return max(score1,score2,score3)"
   ]
  },
  {
   "cell_type": "code",
   "execution_count": 13,
   "metadata": {
    "collapsed": true
   },
   "outputs": [],
   "source": [
    "name_email_data = pd.read_csv('name_email_business_details.csv')"
   ]
  },
  {
   "cell_type": "code",
   "execution_count": 14,
   "metadata": {
    "collapsed": true
   },
   "outputs": [],
   "source": [
    "name_email_data = name_email_data.fillna('')"
   ]
  },
  {
   "cell_type": "code",
   "execution_count": null,
   "metadata": {},
   "outputs": [],
   "source": [
    "name_email_data.head()"
   ]
  },
  {
   "cell_type": "code",
   "execution_count": 15,
   "metadata": {},
   "outputs": [
    {
     "name": "stdout",
     "output_type": "stream",
     "text": [
      "Total number of rows =  30094\n"
     ]
    }
   ],
   "source": [
    "print \"Total number of rows = \",name_email_data.shape[0]"
   ]
  },
  {
   "cell_type": "code",
   "execution_count": 16,
   "metadata": {},
   "outputs": [
    {
     "name": "stdout",
     "output_type": "stream",
     "text": [
      "Total number of entries with no email =  2769\n"
     ]
    }
   ],
   "source": [
    "print \"Total number of entries with no email = \",name_email_data[name_email_data['email']==''].shape[0]"
   ]
  },
  {
   "cell_type": "code",
   "execution_count": 17,
   "metadata": {
    "collapsed": true
   },
   "outputs": [],
   "source": [
    "name_email_data = name_email_data[name_email_data['email']!=''].reset_index(drop=True)"
   ]
  },
  {
   "cell_type": "code",
   "execution_count": null,
   "metadata": {},
   "outputs": [],
   "source": [
    "name_email_data.head()"
   ]
  },
  {
   "cell_type": "code",
   "execution_count": 18,
   "metadata": {
    "collapsed": true
   },
   "outputs": [],
   "source": [
    "name_email_data.loc[:,\"name1\"] = name_email_data['name'].apply(remove_salutation)"
   ]
  },
  {
   "cell_type": "code",
   "execution_count": 19,
   "metadata": {
    "collapsed": true
   },
   "outputs": [],
   "source": [
    "name_email_data.loc[:,\"business_name1\"] = name_email_data['business_name'].apply(modify_business_name)"
   ]
  },
  {
   "cell_type": "code",
   "execution_count": 20,
   "metadata": {
    "collapsed": true
   },
   "outputs": [],
   "source": [
    "name_email_data.loc[:,\"new_email\"] = name_email_data['email'].apply(extract_text_from_email)"
   ]
  },
  {
   "cell_type": "code",
   "execution_count": 21,
   "metadata": {
    "collapsed": true
   },
   "outputs": [],
   "source": [
    "name_email_data.loc[:,\"domain_name\"] = name_email_data['email'].apply(extract_domain_name)"
   ]
  },
  {
   "cell_type": "code",
   "execution_count": 22,
   "metadata": {
    "collapsed": true
   },
   "outputs": [],
   "source": [
    "name_email_data['new_email1'] = name_email_data['new_email'].apply(username_validity)"
   ]
  },
  {
   "cell_type": "code",
   "execution_count": 23,
   "metadata": {
    "collapsed": true
   },
   "outputs": [],
   "source": [
    "name_email_data = name_email_data.drop(['name','email','new_email','business_name'], 1).\\\n",
    "rename(columns={'name1': 'name','new_email1': 'email','business_name1':'b_name'})"
   ]
  },
  {
   "cell_type": "code",
   "execution_count": null,
   "metadata": {},
   "outputs": [],
   "source": [
    "name_email_data.head()"
   ]
  },
  {
   "cell_type": "code",
   "execution_count": 24,
   "metadata": {
    "collapsed": true
   },
   "outputs": [],
   "source": [
    "name_email_data = name_email_data[name_email_data['email']!=''].reset_index(drop=True)"
   ]
  },
  {
   "cell_type": "code",
   "execution_count": null,
   "metadata": {},
   "outputs": [],
   "source": [
    "name_email_data['domain_name'].value_counts().head()"
   ]
  },
  {
   "cell_type": "code",
   "execution_count": 25,
   "metadata": {
    "collapsed": true
   },
   "outputs": [],
   "source": [
    "name_email_data['name_similarity'] = name_email_data[['name','email']].apply(similarity_name_email,axis=1)"
   ]
  },
  {
   "cell_type": "code",
   "execution_count": null,
   "metadata": {},
   "outputs": [],
   "source": [
    "name_email_data.head()"
   ]
  },
  {
   "cell_type": "code",
   "execution_count": null,
   "metadata": {},
   "outputs": [],
   "source": [
    "name_email_data.iloc[0,:]"
   ]
  },
  {
   "cell_type": "code",
   "execution_count": 26,
   "metadata": {
    "collapsed": true
   },
   "outputs": [],
   "source": [
    "name_email_data['b_name_similarity'] = name_email_data[['b_name','email']].\\\n",
    "apply(similarity_businessname_email,axis=1)"
   ]
  },
  {
   "cell_type": "code",
   "execution_count": null,
   "metadata": {},
   "outputs": [],
   "source": [
    "name_email_data.head(10)"
   ]
  },
  {
   "cell_type": "code",
   "execution_count": 27,
   "metadata": {
    "collapsed": true,
    "scrolled": true
   },
   "outputs": [],
   "source": [
    "name_email_data['b_domain_similarity'] = name_email_data[['b_name','domain_name']].\\\n",
    "apply(similarity_businessname_domain,axis=1)"
   ]
  },
  {
   "cell_type": "code",
   "execution_count": null,
   "metadata": {},
   "outputs": [],
   "source": [
    "name_email_data.head()"
   ]
  },
  {
   "cell_type": "code",
   "execution_count": 28,
   "metadata": {
    "collapsed": true
   },
   "outputs": [],
   "source": [
    "name_email_data['final_score'] = name_email_data[['name_similarity','b_name_similarity','b_domain_similarity']]\\\n",
    "                                .apply(max_similar_score,axis=1)"
   ]
  },
  {
   "cell_type": "code",
   "execution_count": null,
   "metadata": {},
   "outputs": [],
   "source": [
    "name_email_data.head()"
   ]
  },
  {
   "cell_type": "code",
   "execution_count": 29,
   "metadata": {},
   "outputs": [
    {
     "name": "stdout",
     "output_type": "stream",
     "text": [
      "Total Number of rows in the dataset = 26613\n"
     ]
    }
   ],
   "source": [
    "print \"Total Number of rows in the dataset = \" +str(name_email_data['final_score'].count())"
   ]
  },
  {
   "cell_type": "code",
   "execution_count": 30,
   "metadata": {
    "collapsed": true
   },
   "outputs": [],
   "source": [
    "x = name_email_data['final_score']"
   ]
  },
  {
   "cell_type": "code",
   "execution_count": 31,
   "metadata": {},
   "outputs": [
    {
     "data": {
      "image/png": "[encoded data removed]",
      "text/plain": [
       "<matplotlib.figure.Figure at 0x7f1350b527d0>"
      ]
     },
     "metadata": {},
     "output_type": "display_data"
    }
   ],
   "source": [
    "plt.hist(x, bins=10)\n",
    "plt.ylabel('Count of Similarity Score');"
   ]
  },
  {
   "cell_type": "code",
   "execution_count": null,
   "metadata": {},
   "outputs": [],
   "source": [
    "name_email_data[name_email_data['final_score'] == 100].head()"
   ]
  },
  {
   "cell_type": "code",
   "execution_count": 32,
   "metadata": {},
   "outputs": [
    {
     "name": "stdout",
     "output_type": "stream",
     "text": [
      "Percentage of records with 100% similarity =  37.9551347086\n"
     ]
    }
   ],
   "source": [
    "Nr100 = name_email_data[name_email_data['final_score'] == 100].shape[0]\n",
    "Dr = name_email_data['final_score'].shape[0]\n",
    "print \"Percentage of records with 100% similarity = \", str((Nr100/float(Dr)*100))"
   ]
  },
  {
   "cell_type": "code",
   "execution_count": null,
   "metadata": {},
   "outputs": [],
   "source": [
    "name_email_data[name_email_data['final_score'] == 40].head()"
   ]
  },
  {
   "cell_type": "code",
   "execution_count": null,
   "metadata": {},
   "outputs": [],
   "source": [
    "name_email_data.iloc[1608,:]"
   ]
  },
  {
   "cell_type": "code",
   "execution_count": 33,
   "metadata": {},
   "outputs": [
    {
     "name": "stdout",
     "output_type": "stream",
     "text": [
      "Percentage of records with 0% similarity =  21.3955585616\n"
     ]
    }
   ],
   "source": [
    "Nr0 = name_email_data[name_email_data['final_score'] == 0].shape[0]\n",
    "Dr = name_email_data['final_score'].shape[0]\n",
    "print \"Percentage of records with 0% similarity = \", str((Nr0/float(Dr)*100))"
   ]
  },
  {
   "cell_type": "code",
   "execution_count": null,
   "metadata": {},
   "outputs": [],
   "source": [
    "name_email_data[(name_email_data['final_score'] >= 20) &(name_email_data['final_score'] <= 30)].head()"
   ]
  },
  {
   "cell_type": "code",
   "execution_count": 34,
   "metadata": {},
   "outputs": [
    {
     "name": "stdout",
     "output_type": "stream",
     "text": [
      "Percentage of records greater than 40% similarity =  72.7013113892\n"
     ]
    }
   ],
   "source": [
    "Nr40plus = name_email_data[name_email_data['final_score'] >= 40].shape[0]\n",
    "Dr = name_email_data['final_score'].shape[0]\n",
    "print \"Percentage of records greater than 40% similarity = \", str((Nr40plus/float(Dr)*100))"
   ]
  },
  {
   "cell_type": "code",
   "execution_count": null,
   "metadata": {},
   "outputs": [],
   "source": [
    "name_email_data[name_email_data['final_score'] == 0]"
   ]
  },
  {
   "cell_type": "code",
   "execution_count": null,
   "metadata": {},
   "outputs": [],
   "source": [
    "name_email_data.iloc[189,:]"
   ]
  },
  {
   "cell_type": "code",
   "execution_count": null,
   "metadata": {},
   "outputs": [],
   "source": [
    "similarity_name_email(('mergu sreenivasa rao','srinumrg'))"
   ]
  },
  {
   "cell_type": "code",
   "execution_count": null,
   "metadata": {},
   "outputs": [],
   "source": [
    "similarity_name_email(('sange','sange'))"
   ]
  },
  {
   "cell_type": "code",
   "execution_count": null,
   "metadata": {},
   "outputs": [],
   "source": [
    "name_email_data[name_email_data['final_score']==40]"
   ]
  },
  {
   "cell_type": "code",
   "execution_count": null,
   "metadata": {},
   "outputs": [],
   "source": [
    "name_email_data[name_email_data['final_score']==10]"
   ]
  },
  {
   "cell_type": "code",
   "execution_count": null,
   "metadata": {},
   "outputs": [],
   "source": [
    "name_email_data[name_email_data['final_score']==20]"
   ]
  },
  {
   "cell_type": "code",
   "execution_count": null,
   "metadata": {},
   "outputs": [],
   "source": [
    "name_email_data.iloc[25553,:]"
   ]
  }
 ],
 "metadata": {
  "anaconda-cloud": {},
  "kernelspec": {
   "display_name": "Python 2",
   "language": "python",
   "name": "python2"
  },
  "language_info": {
   "codemirror_mode": {
    "name": "ipython",
    "version": 2
   },
   "file_extension": ".py",
   "mimetype": "text/x-python",
   "name": "python",
   "nbconvert_exporter": "python",
   "pygments_lexer": "ipython2",
   "version": "2.7.13"
  }
 },
 "nbformat": 4,
 "nbformat_minor": 1
}
