{
 "cells": [
  {
   "cell_type": "code",
   "execution_count": 1,
   "metadata": {
    "collapsed": true
   },
   "outputs": [],
   "source": [
    "import pandas as pd\n",
    "import numpy as np\n",
    "import matplotlib.pyplot as plt\n",
    "%matplotlib inline"
   ]
  },
  {
   "cell_type": "code",
   "execution_count": 2,
   "metadata": {
    "collapsed": true
   },
   "outputs": [],
   "source": [
    "name_email_data = pd.read_csv('name_email_business_details.csv')"
   ]
  },
  {
   "cell_type": "code",
   "execution_count": 3,
   "metadata": {
    "collapsed": true
   },
   "outputs": [],
   "source": [
    "name_email_data = name_email_data.fillna('')"
   ]
  },
  {
   "cell_type": "code",
   "execution_count": null,
   "metadata": {},
   "outputs": [],
   "source": [
    "name_email_data.head()"
   ]
  },
  {
   "cell_type": "code",
   "execution_count": 4,
   "metadata": {},
   "outputs": [],
   "source": [
    "def remove_salutation(txt):\n",
    "    special_characters = [',','@','_']\n",
    "    for sp in special_characters:\n",
    "        txt = txt.replace(sp,\" \")\n",
    "    txt = txt.lower()\n",
    "    txt = ' '.join(txt.split()) #Replace multiple spaces with single space\n",
    "    salutation = ['mr. ','dr ','mrs. ','miss ','mr ','mrs ','dr. ','sir ']\n",
    "    for sals in salutation:\n",
    "        if sals in txt:\n",
    "            txt = txt.replace(sals,'')\n",
    "    txt = ''.join([i for i in txt if not i.isdigit()]) #Converting names to just character only\n",
    "    return txt"
   ]
  },
  {
   "cell_type": "code",
   "execution_count": 5,
   "metadata": {},
   "outputs": [],
   "source": [
    "def extract_domain_name(email):\n",
    "    if email and '@' in email:\n",
    "            if len(email.split(\"@\"))>1:\n",
    "                domain = email.split(\"@\")[1].split(\".\")[0]\n",
    "            return domain.lower()\n",
    "    else:\n",
    "        return email"
   ]
  },
  {
   "cell_type": "code",
   "execution_count": 6,
   "metadata": {
    "collapsed": true
   },
   "outputs": [],
   "source": [
    "def modify_business_name(txt):\n",
    "    special_characters = ['.','@','_']\n",
    "    for sp in special_characters:\n",
    "        txt = txt.replace(sp,\" \")\n",
    "    txt = txt.lower()\n",
    "    txt = ''.join(txt.split()) #Replace multiple spaces with single space\n",
    "    txt = ''.join([i for i in txt if not i.isdigit()]) #Converting names to just character only\n",
    "    return txt"
   ]
  },
  {
   "cell_type": "code",
   "execution_count": 7,
   "metadata": {
    "collapsed": true
   },
   "outputs": [],
   "source": [
    "def extract_text_from_email(email):\n",
    "    new_email = ''\n",
    "    if email:\n",
    "        email = email.split(\"@\")[0]\n",
    "        for characters in email:\n",
    "            if characters.isalpha():\n",
    "                new_email +=characters\n",
    "    return new_email.lower()"
   ]
  },
  {
   "cell_type": "code",
   "execution_count": 8,
   "metadata": {
    "collapsed": true
   },
   "outputs": [],
   "source": [
    "def get_all_substrings(input_string):\n",
    "    length = len(input_string)\n",
    "    return [input_string[0:j] for j in range(1,length+1)]"
   ]
  },
  {
   "cell_type": "code",
   "execution_count": 9,
   "metadata": {
    "collapsed": true
   },
   "outputs": [],
   "source": [
    "def count_of_namesubstring_in_email(substring_names,email):\n",
    "    temp_list = []\n",
    "    index_list = []\n",
    "    for names in substring_names:\n",
    "        temp_list.append(names in email)\n",
    "    if temp_list:\n",
    "        index_list = [i for i, x in enumerate(temp_list) if x]\n",
    "        if index_list:\n",
    "            return max(index_list)+1\n",
    "        else:\n",
    "            return 0\n",
    "    else:\n",
    "        return 0"
   ]
  },
  {
   "cell_type": "code",
   "execution_count": 10,
   "metadata": {
    "collapsed": true
   },
   "outputs": [],
   "source": [
    "def similarity_name_email (detail):\n",
    "    full_name,email = detail\n",
    "    if len(email):\n",
    "        if full_name.count(' ') >= 2:\n",
    "            f_name = full_name.split(' ')[0]\n",
    "            m_name = full_name.split(' ')[1]\n",
    "            s_name = full_name.split(' ')[2]\n",
    "            fname_similarity = count_of_namesubstring_in_email(get_all_substrings(f_name),email)/float(len(email))\n",
    "            mname_similarity = count_of_namesubstring_in_email(get_all_substrings(m_name),email)/float(len(email))\n",
    "            sname_similarity = count_of_namesubstring_in_email(get_all_substrings(s_name),email)/float(len(email))\n",
    "            if int((fname_similarity + mname_similarity + sname_similarity)*100) > 100:\n",
    "                return 100\n",
    "            else:\n",
    "                return int((fname_similarity + mname_similarity + sname_similarity)*100)\n",
    "            \n",
    "        if full_name.count(' ') == 1:\n",
    "            f_name = full_name.split(' ')[0]\n",
    "            s_name = full_name.split(' ')[1]\n",
    "            fname_similarity = count_of_namesubstring_in_email(get_all_substrings(f_name),email)/float(len(email))\n",
    "            sname_similarity = count_of_namesubstring_in_email(get_all_substrings(s_name),email)/float(len(email))\n",
    "            if int((fname_similarity + sname_similarity)*100) > 100:\n",
    "                return 100\n",
    "            else:\n",
    "                return int((fname_similarity + sname_similarity)*100)\n",
    "        else:\n",
    "            name_similarity = count_of_namesubstring_in_email(get_all_substrings(full_name),email)/float(len(email))\n",
    "            return int(name_similarity*100)\n",
    "    else:\n",
    "        return 0"
   ]
  },
  {
   "cell_type": "code",
   "execution_count": 11,
   "metadata": {
    "collapsed": true
   },
   "outputs": [],
   "source": [
    "def similarity_businessname_email(detail):\n",
    "    business_name,email = detail\n",
    "    if len(email):\n",
    "        bname_similarity = count_of_namesubstring_in_email(get_all_substrings(business_name),email)/float(len(email))\n",
    "        return int((bname_similarity*100))\n",
    "    else:\n",
    "        return 0"
   ]
  },
  {
   "cell_type": "code",
   "execution_count": 12,
   "metadata": {
    "collapsed": true
   },
   "outputs": [],
   "source": [
    "def similarity_businessname_domain(detail):\n",
    "    business_name,domain = detail\n",
    "    if len(domain):\n",
    "        bname_similarity = count_of_namesubstring_in_email(get_all_substrings(business_name),domain)/float(len(domain))\n",
    "        return int((bname_similarity*100))\n",
    "    else:\n",
    "        return 0"
   ]
  },
  {
   "cell_type": "code",
   "execution_count": 13,
   "metadata": {
    "collapsed": true
   },
   "outputs": [],
   "source": [
    "def max_similar_score(scores):\n",
    "    score1, score2,score3 = scores\n",
    "    return max(score1,score2,score3)"
   ]
  },
  {
   "cell_type": "code",
   "execution_count": 14,
   "metadata": {
    "collapsed": true
   },
   "outputs": [],
   "source": [
    "name_email_data.loc[:,\"name1\"] = name_email_data['name'].apply(remove_salutation)"
   ]
  },
  {
   "cell_type": "code",
   "execution_count": 15,
   "metadata": {
    "collapsed": true
   },
   "outputs": [],
   "source": [
    "name_email_data.loc[:,\"business_name1\"] = name_email_data['business_name'].apply(modify_business_name)"
   ]
  },
  {
   "cell_type": "code",
   "execution_count": 16,
   "metadata": {
    "collapsed": true
   },
   "outputs": [],
   "source": [
    "name_email_data.loc[:,\"new_email\"] = name_email_data['email'].apply(extract_text_from_email)"
   ]
  },
  {
   "cell_type": "code",
   "execution_count": 17,
   "metadata": {
    "collapsed": true
   },
   "outputs": [],
   "source": [
    "name_email_data.loc[:,\"domain_name\"] = name_email_data['email'].apply(extract_domain_name)"
   ]
  },
  {
   "cell_type": "code",
   "execution_count": 18,
   "metadata": {
    "collapsed": true
   },
   "outputs": [],
   "source": [
    "name_email_data = name_email_data.drop(['name','email','business_name'], 1).\\\n",
    "rename(columns={'name1': 'name','new_email': 'email','business_name1':'business_name'})"
   ]
  },
  {
   "cell_type": "code",
   "execution_count": null,
   "metadata": {},
   "outputs": [],
   "source": [
    "name_email_data.head()"
   ]
  },
  {
   "cell_type": "code",
   "execution_count": 19,
   "metadata": {},
   "outputs": [],
   "source": [
    "name_email_data['name_similarity_score'] = name_email_data[['name','email']].apply(similarity_name_email,axis=1)"
   ]
  },
  {
   "cell_type": "code",
   "execution_count": null,
   "metadata": {},
   "outputs": [],
   "source": [
    "name_email_data.head()"
   ]
  },
  {
   "cell_type": "code",
   "execution_count": 20,
   "metadata": {},
   "outputs": [],
   "source": [
    "name_email_data['business_name_similarity_score'] = name_email_data[['business_name','email']].\\\n",
    "apply(similarity_businessname_email,axis=1)"
   ]
  },
  {
   "cell_type": "code",
   "execution_count": null,
   "metadata": {},
   "outputs": [],
   "source": [
    "name_email_data.head()"
   ]
  },
  {
   "cell_type": "code",
   "execution_count": 21,
   "metadata": {
    "scrolled": true
   },
   "outputs": [],
   "source": [
    "name_email_data['business_domain_similarity_score'] = name_email_data[['business_name','domain_name']].\\\n",
    "apply(similarity_businessname_domain,axis=1)"
   ]
  },
  {
   "cell_type": "code",
   "execution_count": null,
   "metadata": {},
   "outputs": [],
   "source": [
    "name_email_data.head()"
   ]
  },
  {
   "cell_type": "code",
   "execution_count": 22,
   "metadata": {},
   "outputs": [],
   "source": [
    "name_email_data['final_score'] = name_email_data[['name_similarity_score','business_name_similarity_score',\\\n",
    "                                                  'business_domain_similarity_score']]\\\n",
    "                                .apply(max_similar_score,axis=1)"
   ]
  },
  {
   "cell_type": "code",
   "execution_count": null,
   "metadata": {},
   "outputs": [],
   "source": [
    "name_email_data.head(10)"
   ]
  },
  {
   "cell_type": "code",
   "execution_count": 23,
   "metadata": {},
   "outputs": [
    {
     "name": "stdout",
     "output_type": "stream",
     "text": [
      "Total Number of rows in the dataset = 30094\n"
     ]
    }
   ],
   "source": [
    "print \"Total Number of rows in the dataset = \" +str(name_email_data['final_score'].count())"
   ]
  },
  {
   "cell_type": "code",
   "execution_count": 24,
   "metadata": {
    "collapsed": true
   },
   "outputs": [],
   "source": [
    "x = name_email_data['final_score']"
   ]
  },
  {
   "cell_type": "code",
   "execution_count": 25,
   "metadata": {},
   "outputs": [
    {
     "data": {
      "image/png": "[encoded data removed]",
      "text/plain": [
       "<matplotlib.figure.Figure at 0x7fb7d3b42990>"
      ]
     },
     "metadata": {},
     "output_type": "display_data"
    }
   ],
   "source": [
    "plt.hist(x, bins=10)\n",
    "plt.ylabel('Count of Similarity Score');"
   ]
  },
  {
   "cell_type": "code",
   "execution_count": null,
   "metadata": {},
   "outputs": [],
   "source": [
    "name_email_data[name_email_data['final_score'] == 100].head()"
   ]
  },
  {
   "cell_type": "code",
   "execution_count": 26,
   "metadata": {},
   "outputs": [
    {
     "name": "stdout",
     "output_type": "stream",
     "text": [
      "Percentage of records with 100% similarity =  37.9976074965\n"
     ]
    }
   ],
   "source": [
    "Nr100 = name_email_data[name_email_data['final_score'] == 100].shape[0]\n",
    "Dr = name_email_data['final_score'].shape[0]\n",
    "print \"Percentage of records with 100% similarity = \", str((Nr100/float(Dr)*100))"
   ]
  },
  {
   "cell_type": "code",
   "execution_count": null,
   "metadata": {},
   "outputs": [],
   "source": [
    "name_email_data[name_email_data['final_score'] == 0].head()"
   ]
  },
  {
   "cell_type": "code",
   "execution_count": 27,
   "metadata": {},
   "outputs": [
    {
     "name": "stdout",
     "output_type": "stream",
     "text": [
      "Percentage of records with 0% similarity =  15.298730644\n"
     ]
    }
   ],
   "source": [
    "Nr0 = name_email_data[name_email_data['final_score'] == 0].shape[0]\n",
    "Dr = name_email_data['final_score'].shape[0]\n",
    "print \"Percentage of records with 0% similarity = \", str((Nr0/float(Dr)*100))"
   ]
  },
  {
   "cell_type": "code",
   "execution_count": null,
   "metadata": {},
   "outputs": [],
   "source": [
    "name_email_data[(name_email_data['final_score'] >= 20) &(name_email_data['final_score'] <= 30)].head()"
   ]
  },
  {
   "cell_type": "code",
   "execution_count": 28,
   "metadata": {},
   "outputs": [
    {
     "name": "stdout",
     "output_type": "stream",
     "text": [
      "Percentage of records greater than 40% similarity =  65.7506479697\n"
     ]
    }
   ],
   "source": [
    "Nr40plus = name_email_data[name_email_data['final_score'] >= 40].shape[0]\n",
    "Dr = name_email_data['final_score'].shape[0]\n",
    "print \"Percentage of records greater than 40% similarity = \", str((Nr40plus/float(Dr)*100))"
   ]
  },
  {
   "cell_type": "code",
   "execution_count": null,
   "metadata": {},
   "outputs": [],
   "source": [
    "name_email_data.iloc[189,:]"
   ]
  }
 ],
 "metadata": {
  "anaconda-cloud": {},
  "kernelspec": {
   "display_name": "Python 2",
   "language": "python",
   "name": "python2"
  },
  "language_info": {
   "codemirror_mode": {
    "name": "ipython",
    "version": 2
   },
   "file_extension": ".py",
   "mimetype": "text/x-python",
   "name": "python",
   "nbconvert_exporter": "python",
   "pygments_lexer": "ipython2",
   "version": "2.7.13"
  }
 },
 "nbformat": 4,
 "nbformat_minor": 1
}
